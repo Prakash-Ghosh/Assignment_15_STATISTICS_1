{
 "cells": [
  {
   "cell_type": "markdown",
   "metadata": {},
   "source": [
    "# STATISTICS - 1 - Assignment\n",
    "## By Prakash Ghosh\n",
    "---"
   ]
  },
  {
   "cell_type": "code",
   "execution_count": 32,
   "metadata": {},
   "outputs": [],
   "source": [
    "# import the libraries\n",
    "import statistics as stat\n",
    "import pandas as pd\n",
    "import matplotlib.pyplot as plt\n",
    "%matplotlib inline"
   ]
  },
  {
   "cell_type": "markdown",
   "metadata": {},
   "source": [
    "### Problem Statement 1: \n",
    "#### You survey households in your area to find the average rent they are paying. Find the standard deviation from the following data: <br> \\$1550, \\$1700, \\$900, \\$850, \\$1000, \\$950."
   ]
  },
  {
   "cell_type": "code",
   "execution_count": 7,
   "metadata": {},
   "outputs": [
    {
     "name": "stdout",
     "output_type": "stream",
     "text": [
      "Standard deviation for Rent is :\t 367.9900360969936\n"
     ]
    }
   ],
   "source": [
    "# Input Data from household Survey\n",
    "lst_rent =[1550, 1700, 900, 850, 1000, 950]\n",
    "\n",
    "# standard deviation from lst_rent\n",
    "result=stat.stdev(lst_rent)\n",
    "\n",
    "print('Standard deviation for Rent is :\\t', result)"
   ]
  },
  {
   "cell_type": "markdown",
   "metadata": {},
   "source": [
    "### Problem Statement 2:\n",
    "#### Find the variance for the following set of data representing trees in California (heights in feet): <br> 3, 21, 98, 203, 17, 9"
   ]
  },
  {
   "cell_type": "code",
   "execution_count": 49,
   "metadata": {},
   "outputs": [
    {
     "name": "stdout",
     "output_type": "stream",
     "text": [
      "Variance for the trees in California:\t 6219.9\n"
     ]
    }
   ],
   "source": [
    "# Input Data for heights of trees in California\n",
    "lst_tree_height =[3, 21, 98, 203, 17, 9]\n",
    "\n",
    "# variance from lst_tree_height\n",
    "result= stat.variance(lst_tree_height)\n",
    "\n",
    "print('Variance for the trees in California:\\t', result)"
   ]
  },
  {
   "cell_type": "markdown",
   "metadata": {},
   "source": [
    "### Problem Statement 3:\n",
    "#### In a class on 100 students, 80 students passed in all subjects, 10 failed in one subject, 7 failed in two subjects and 3 failed in three subjects. Find the probability distribution of the variable for number of subjects a student from the given class has failed in."
   ]
  },
  {
   "cell_type": "code",
   "execution_count": 50,
   "metadata": {},
   "outputs": [
    {
     "name": "stdout",
     "output_type": "stream",
     "text": [
      "Probability distribution of the variable for number of subjects a student has failed in:\n",
      "   No_of_Sub_Failed  Probabalities\n",
      "0                 0           0.80\n",
      "1                 1           0.10\n",
      "2                 2           0.07\n",
      "3                 3           0.03\n"
     ]
    },
    {
     "data": {
      "image/png": "[encoded data removed]",
      "text/plain": [
       "<Figure size 432x288 with 1 Axes>"
      ]
     },
     "metadata": {},
     "output_type": "display_data"
    }
   ],
   "source": [
    "# Input Data\n",
    "total_no_of_student = 100\n",
    "passed_all_subject = 80\n",
    "failed_1_subject = 10\n",
    "failed_2_subject = 7\n",
    "failed_3_subject = 3\n",
    "\n",
    "# Probability distribution from the input Data\n",
    "p_failed_0_subject = passed_all_subject/total_no_of_student\n",
    "p_failed_1_subject = failed_1_subject/total_no_of_student\n",
    "p_failed_2_subject = failed_2_subject/total_no_of_student\n",
    "p_failed_3_subject = failed_3_subject/total_no_of_student\n",
    "\n",
    "# Create a Dataframe with the Probability distribution and random variable\n",
    "lst_no_of_Suject_failed=[0,1,2,3]\n",
    "lst_probability=[p_failed_0_subject,p_failed_1_subject,p_failed_2_subject,p_failed_3_subject]\n",
    "\n",
    "df_probability=pd.DataFrame({'No_of_Sub_Failed':lst_no_of_Suject_failed,'Probabalities': lst_probability})\n",
    "\n",
    "print('Probability distribution of the variable for number of subjects a student has failed in:')\n",
    "print(df_probability)\n",
    "\n",
    "# Plot the Probabalitis distributions\n",
    "plt.bar(df_probability.No_of_Sub_Failed,df_probability.Probabalities,width=.3)\n",
    "plt.xlabel('Number of Subject Failed')\n",
    "plt.xticks(lst_no_of_Suject_failed)\n",
    "plt.ylabel('Probabality')\n",
    "plt.title('Probabalitis distribution Plot')\n",
    "plt.show()"
   ]
  }
 ],
 "metadata": {
  "kernelspec": {
   "display_name": "Python 3",
   "language": "python",
   "name": "python3"
  },
  "language_info": {
   "codemirror_mode": {
    "name": "ipython",
    "version": 3
   },
   "file_extension": ".py",
   "mimetype": "text/x-python",
   "name": "python",
   "nbconvert_exporter": "python",
   "pygments_lexer": "ipython3",
   "version": "3.6.5"
  }
 },
 "nbformat": 4,
 "nbformat_minor": 2
}
